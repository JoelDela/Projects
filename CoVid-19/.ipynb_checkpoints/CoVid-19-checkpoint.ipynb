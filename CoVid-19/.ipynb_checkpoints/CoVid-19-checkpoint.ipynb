{
 "cells": [
  {
   "cell_type": "markdown",
   "metadata": {},
   "source": [
    "# CoVid-19 Tracing"
   ]
  },
  {
   "cell_type": "markdown",
   "metadata": {},
   "source": [
    "Use this in case it doesn't connect"
   ]
  },
  {
   "cell_type": "code",
   "execution_count": 1,
   "metadata": {},
   "outputs": [],
   "source": [
    "#! mkdir data"
   ]
  },
  {
   "cell_type": "code",
   "execution_count": 2,
   "metadata": {},
   "outputs": [
    {
     "name": "stdout",
     "output_type": "stream",
     "text": [
      "/home/joeldela/Repos/Projects/CoVid-19/data\n"
     ]
    }
   ],
   "source": [
    "#cd ./data\n",
    "#%cd ./data/COVID-19"
   ]
  },
  {
   "cell_type": "code",
   "execution_count": 3,
   "metadata": {},
   "outputs": [
    {
     "name": "stdout",
     "output_type": "stream",
     "text": [
      "Cloning into 'COVID-19'...\n",
      "remote: Enumerating objects: 14758, done.\u001b[K\n",
      "remote: Total 14758 (delta 0), reused 0 (delta 0), pack-reused 14758\u001b[K\n",
      "Receiving objects: 100% (14758/14758), 47.16 MiB | 2.54 MiB/s, done.\n",
      "Resolving deltas: 100% (7096/7096), done.\n"
     ]
    }
   ],
   "source": [
    "#!git clone https://github.com/CSSEGISandData/COVID-19.git\n",
    "#!git pull"
   ]
  },
  {
   "cell_type": "code",
   "execution_count": 4,
   "metadata": {
    "scrolled": true
   },
   "outputs": [
    {
     "name": "stdout",
     "output_type": "stream",
     "text": [
      "/home/joeldela/Repos/Projects\n"
     ]
    }
   ],
   "source": [
    "#%cd ../.."
   ]
  },
  {
   "cell_type": "markdown",
   "metadata": {},
   "source": [
    "##### We are going to use the data from CSSEGISandData "
   ]
  },
  {
   "cell_type": "code",
   "execution_count": 10,
   "metadata": {},
   "outputs": [],
   "source": [
    "import pandas as pd\n",
    "import numpy as np\n",
    "import matplotlib.pyplot as plt\n",
    "import seaborn as sns\n",
    "from geopy.geocoders import Nominatim\n",
    "from geopy.exc import GeocoderTimedOut\n",
    "from datetime import date, datetime, timedelta\n",
    "import bokeh\n",
    "import pandas_bokeh\n",
    "from pandas_profiling import ProfileReport"
   ]
  },
  {
   "cell_type": "markdown",
   "metadata": {},
   "source": [
    "### 1. Data acquisition"
   ]
  },
  {
   "cell_type": "markdown",
   "metadata": {},
   "source": [
    "We must get the files from the source:"
   ]
  },
  {
   "cell_type": "code",
   "execution_count": 11,
   "metadata": {},
   "outputs": [
    {
     "name": "stderr",
     "output_type": "stream",
     "text": [
      "/home/joeldela/anaconda3/lib/python3.7/site-packages/ipykernel_launcher.py:21: FutureWarning: Sorting because non-concatenation axis is not aligned. A future version\n",
      "of pandas will change to not sort by default.\n",
      "\n",
      "To accept the future behavior, pass 'sort=False'.\n",
      "\n",
      "To retain the current behavior and silence the warning, pass 'sort=True'.\n",
      "\n"
     ]
    }
   ],
   "source": [
    "files=[]\n",
    "# The path where the files are is:#\n",
    "path = 'https://raw.githubusercontent.com/CSSEGISandData/COVID-19/master/csse_covid_19_data/csse_covid_19_daily_reports/'\n",
    "#path = './data/COVID-19/csse_covid_19_data/csse_covid_19_daily_reports/'\n",
    "# We must get the name of each file. All the are dates, so:\n",
    "\n",
    "start = start_date=date(2020, 1, 22)\n",
    "end = date.today()\n",
    "date_generated = [start + timedelta(days=x) for x in range(0, (end-start).days)]\n",
    "\n",
    "for dates in date_generated:\n",
    "    dates=dates.strftime(\"%m-%d-%Y\")+'.csv'\n",
    "    files.append(dates)\n",
    "    \n",
    "def dataframe(files):\n",
    "    try:\n",
    "        datos=pd.DataFrame()\n",
    "        for file in files:\n",
    "            filepath=path+file\n",
    "            df_file=pd.read_csv(filepath)\n",
    "            datos=pd.concat([datos,df_file],axis=0)\n",
    "        return datos\n",
    "    except TimeoutError:\n",
    "        return dataframe(files)\n",
    "datos=dataframe(files)"
   ]
  },
  {
   "cell_type": "code",
   "execution_count": 12,
   "metadata": {},
   "outputs": [],
   "source": [
    "df=datos.copy()"
   ]
  },
  {
   "cell_type": "markdown",
   "metadata": {},
   "source": [
    "### Cleaning data"
   ]
  },
  {
   "cell_type": "markdown",
   "metadata": {},
   "source": [
    "Data must be cleaned to get a better result. It should be checked periodically."
   ]
  },
  {
   "cell_type": "code",
   "execution_count": 13,
   "metadata": {},
   "outputs": [
    {
     "name": "stderr",
     "output_type": "stream",
     "text": [
      "/home/joeldela/anaconda3/lib/python3.7/site-packages/pandas/core/strings.py:1843: UserWarning: This pattern has match groups. To actually get the groups, use str.extract.\n",
      "  return func(self, *args, **kwargs)\n"
     ]
    }
   ],
   "source": [
    "df.rename(columns={'Country/Region':'Country'},inplace=True)\n",
    "df.rename(columns={'Province/State':'Province'},inplace=True)\n",
    "# Some names must be cleaned manually\n",
    "df.loc[df['Province']=='Fench Guiana','Province']='French Guiana'\n",
    "df.loc[df['Province']=='Hong Kong','Country'] = 'Hong Kong'\n",
    "df.loc[df['Province']=='Macau','Country'] = 'Macao'\n",
    "df.loc[df['Province']=='Taiwan','Country'] = 'Taiwan'\n",
    "df.loc[df['Province']=='UK','Province'] = np.NaN\n",
    "df.loc[df['Country'].str.startswith('Tai'),'Country'] = 'Taiwan'\n",
    "#Some of them are twice but with different names\n",
    "list_unique_s=list(df['Province'].unique())\n",
    "list_unique_s.remove(np.NaN)\n",
    "for state in list_unique_s:\n",
    "    filtro=df['Province'].str.contains(state).fillna(False)\n",
    "    unicos=df.loc[filtro,'Province'].unique()\n",
    "    if len(unicos)>1:\n",
    "        df.loc[filtro,'Province']=unicos[0]\n",
    "\n",
    "list_unique_c=list(df['Country'].unique())\n",
    "for country in list_unique_c:\n",
    "    filtro=df['Country'].str.contains(country).fillna(False)\n",
    "    unicos=df.loc[filtro,'Country'].unique()\n",
    "    if len(unicos)>1:\n",
    "        df.loc[filtro,'Country']=unicos[0]\n",
    "        \n",
    "# In some rows the Country is placed in the 'Province/State' column\n",
    "for i in range(df.shape[0]):\n",
    "    if df.iloc[i,0]==df.iloc[i,1]:\n",
    "        df.iloc[i,0]=np.NaN\n",
    "    else:\n",
    "        continue"
   ]
  },
  {
   "cell_type": "markdown",
   "metadata": {},
   "source": [
    "#### Data Localization"
   ]
  },
  {
   "cell_type": "code",
   "execution_count": 14,
   "metadata": {},
   "outputs": [],
   "source": [
    "df_aux=df.copy()\n",
    "df_aux=df_aux.reset_index().drop('index',axis=1)"
   ]
  },
  {
   "cell_type": "markdown",
   "metadata": {},
   "source": [
    "We may get the Address based on the coordimates:"
   ]
  },
  {
   "cell_type": "code",
   "execution_count": null,
   "metadata": {},
   "outputs": [],
   "source": [
    "df_aux['Address']=np.NaN\n",
    "\n",
    "def locate(row):\n",
    "    geolocator = Nominatim(user_agent=\"CoVid-19\",timeout=10)\n",
    "    if np.isnan(row['Latitude']):\n",
    "        row['Address']=np.NaN\n",
    "    else:\n",
    "        lat=row['Latitude']\n",
    "        lon=row['Longitude']\n",
    "        row['Address']=geolocator.reverse(str(lat)+', '+str(lon))\n",
    "\n",
    "df_aux.apply(lambda row: locate(row),axis=1)"
   ]
  },
  {
   "cell_type": "markdown",
   "metadata": {},
   "source": [
    "```python\n",
    "df_aux['Address']=np.NaN\n",
    "\n",
    "def locate(row):\n",
    "    geolocator = Nominatim(user_agent=\"CoVid-19\",timeout=3)\n",
    "    try:\n",
    "        if np.isnan(row['Latitude']):\n",
    "            row['Address']=np.NaN\n",
    "        else:\n",
    "            lat=row['Latitude']\n",
    "            lon=row['Longitude']\n",
    "            row['Address']=geolocator.reverse(str(lat)+', '+str(lon))\n",
    "    except GeocoderTimedOut:\n",
    "            return GeocoderTimedOut\n",
    "\n",
    "df_aux.apply(lambda row: locate(row),axis=1)\n",
    "```"
   ]
  },
  {
   "cell_type": "code",
   "execution_count": null,
   "metadata": {},
   "outputs": [],
   "source": []
  }
 ],
 "metadata": {
  "kernelspec": {
   "display_name": "Python 3",
   "language": "python",
   "name": "python3"
  },
  "language_info": {
   "codemirror_mode": {
    "name": "ipython",
    "version": 3
   },
   "file_extension": ".py",
   "mimetype": "text/x-python",
   "name": "python",
   "nbconvert_exporter": "python",
   "pygments_lexer": "ipython3",
   "version": "3.7.4"
  }
 },
 "nbformat": 4,
 "nbformat_minor": 4
}
