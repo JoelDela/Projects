{
 "cells": [
  {
   "cell_type": "markdown",
   "metadata": {},
   "source": [
    "# CoVid-19 Tracing"
   ]
  },
  {
   "cell_type": "markdown",
   "metadata": {},
   "source": [
    "Use this in case it doesn't connect"
   ]
  },
  {
   "cell_type": "code",
   "execution_count": 1,
   "metadata": {},
   "outputs": [],
   "source": [
    "#! mkdir data"
   ]
  },
  {
   "cell_type": "code",
   "execution_count": 2,
   "metadata": {},
   "outputs": [],
   "source": [
    "#cd ./data\n",
    "#%cd ./data/COVID-19"
   ]
  },
  {
   "cell_type": "code",
   "execution_count": 3,
   "metadata": {},
   "outputs": [],
   "source": [
    "#!git clone https://github.com/CSSEGISandData/COVID-19.git\n",
    "#!git pull"
   ]
  },
  {
   "cell_type": "code",
   "execution_count": 4,
   "metadata": {
    "scrolled": true
   },
   "outputs": [],
   "source": [
    "#%cd ../.."
   ]
  },
  {
   "cell_type": "markdown",
   "metadata": {},
   "source": [
    "##### We are going to use the data from CSSEGISandData "
   ]
  },
  {
   "cell_type": "code",
   "execution_count": 51,
   "metadata": {},
   "outputs": [],
   "source": [
    "import pandas as pd\n",
    "import numpy as np\n",
    "import matplotlib.pyplot as plt\n",
    "import seaborn as sns\n",
    "from geopy.geocoders import Nominatim\n",
    "from geopy.exc import GeocoderTimedOut\n",
    "from geopy.extra.rate_limiter import RateLimiter\n",
    "from datetime import date, datetime, timedelta\n",
    "import bokeh\n",
    "import pandas_bokeh\n",
    "from pandas_profiling import ProfileReport"
   ]
  },
  {
   "cell_type": "markdown",
   "metadata": {},
   "source": [
    "### 1. Data acquisition"
   ]
  },
  {
   "cell_type": "markdown",
   "metadata": {},
   "source": [
    "We must get the files from the source:"
   ]
  },
  {
   "cell_type": "code",
   "execution_count": null,
   "metadata": {},
   "outputs": [],
   "source": [
    "files=[]\n",
    "# The path where the files are is:#\n",
    "path = 'https://raw.githubusercontent.com/CSSEGISandData/COVID-19/master/csse_covid_19_data/csse_covid_19_daily_reports/'\n",
    "#path = './data/COVID-19/csse_covid_19_data/csse_covid_19_daily_reports/'\n",
    "# We must get the name of each file. All the are dates, so:\n",
    "\n",
    "start = start_date=date(2020, 1, 22)\n",
    "end = date.today()\n",
    "date_generated = [start + timedelta(days=x) for x in range(0, (end-start).days)]\n",
    "\n",
    "for dates in date_generated:\n",
    "    dates=dates.strftime(\"%m-%d-%Y\")+'.csv'\n",
    "    files.append(dates)\n",
    "\n",
    "def dataframe(files):\n",
    "    try:\n",
    "        datos=pd.DataFrame()\n",
    "        for file in files:\n",
    "            filepath=path+file\n",
    "            df_file=pd.read_csv(filepath)\n",
    "            datos=pd.concat([datos,df_file],axis=0)\n",
    "        return datos\n",
    "    except TimeoutError:\n",
    "        return dataframe(files)\n",
    "datos=dataframe(files)"
   ]
  },
  {
   "cell_type": "code",
   "execution_count": 7,
   "metadata": {},
   "outputs": [],
   "source": [
    "df=datos.copy()"
   ]
  },
  {
   "cell_type": "markdown",
   "metadata": {},
   "source": [
    "### Cleaning data"
   ]
  },
  {
   "cell_type": "markdown",
   "metadata": {},
   "source": [
    "Data must be cleaned to get a better result. It should be checked periodically."
   ]
  },
  {
   "cell_type": "code",
   "execution_count": 8,
   "metadata": {},
   "outputs": [
    {
     "name": "stderr",
     "output_type": "stream",
     "text": [
      "/home/joeldela/anaconda3/lib/python3.7/site-packages/pandas/core/strings.py:1843: UserWarning: This pattern has match groups. To actually get the groups, use str.extract.\n",
      "  return func(self, *args, **kwargs)\n"
     ]
    }
   ],
   "source": [
    "df.rename(columns={'Country/Region':'Country'},inplace=True)\n",
    "df.rename(columns={'Province/State':'Province'},inplace=True)\n",
    "# Some names must be cleaned manually\n",
    "df.loc[df['Province']=='Fench Guiana','Province']='French Guiana'\n",
    "df.loc[df['Province']=='Hong Kong','Country'] = 'Hong Kong'\n",
    "df.loc[df['Province']=='Macau','Country'] = 'Macao'\n",
    "df.loc[df['Province']=='Taiwan','Country'] = 'Taiwan'\n",
    "df.loc[df['Province']=='UK','Province'] = np.NaN\n",
    "df.loc[df['Country'].str.startswith('Tai'),'Country'] = 'Taiwan'\n",
    "#Some of them are twice but with different names\n",
    "list_unique_s=list(df['Province'].unique())\n",
    "list_unique_s.remove(np.NaN)\n",
    "for state in list_unique_s:\n",
    "    filtro=df['Province'].str.contains(state).fillna(False)\n",
    "    unicos=df.loc[filtro,'Province'].unique()\n",
    "    if len(unicos)>1:\n",
    "        df.loc[filtro,'Province']=unicos[0]\n",
    "\n",
    "list_unique_c=list(df['Country'].unique())\n",
    "for country in list_unique_c:\n",
    "    filtro=df['Country'].str.contains(country).fillna(False)\n",
    "    unicos=df.loc[filtro,'Country'].unique()\n",
    "    if len(unicos)>1:\n",
    "        df.loc[filtro,'Country']=unicos[0]\n",
    "        \n",
    "# In some rows the Country is placed in the 'Province/State' column\n",
    "for i in range(df.shape[0]):\n",
    "    if df.iloc[i,0]==df.iloc[i,1]:\n",
    "        df.iloc[i,0]=np.NaN\n",
    "    else:\n",
    "        continue"
   ]
  },
  {
   "cell_type": "markdown",
   "metadata": {},
   "source": [
    "#### Data Localization"
   ]
  },
  {
   "cell_type": "code",
   "execution_count": 9,
   "metadata": {},
   "outputs": [],
   "source": [
    "df_aux=df.copy()\n",
    "df_aux=df_aux.reset_index().drop('index',axis=1)"
   ]
  },
  {
   "cell_type": "markdown",
   "metadata": {},
   "source": [
    "We may get the Address based on the coordimates:"
   ]
  },
  {
   "cell_type": "code",
   "execution_count": 85,
   "metadata": {},
   "outputs": [],
   "source": [
    "df_aux['Address']=np.NaN"
   ]
  },
  {
   "cell_type": "markdown",
   "metadata": {},
   "source": [
    "The loop to use is:"
   ]
  },
  {
   "cell_type": "markdown",
   "metadata": {},
   "source": [
    "```python\n",
    "geolocator = Nominatim(user_agent=\"CoVid-19\",timeout=10)\n",
    "geocode = RateLimiter(geolocator.reverse, min_delay_seconds=1)\n",
    "for i in range(df_aux.shape[0]):\n",
    "    try:\n",
    "        if not pd.isnull(df_aux['Address'][i]):\n",
    "            df_aux['Address'][i]\n",
    "        elif pd.isnull(df_aux['Latitude'][i]):\n",
    "            df_aux['Address'][i]=np.NaN\n",
    "        else:\n",
    "            lat=df_aux['Latitude'][i]\n",
    "            lon=df_aux['Longitude'][i]\n",
    "            df_aux['Address'][i]=str(geocode(str(lat)+', '+str(lon)))\n",
    "    except TypeError:\n",
    "        continue\n",
    "```"
   ]
  },
  {
   "cell_type": "code",
   "execution_count": null,
   "metadata": {},
   "outputs": [],
   "source": [
    "def locate(row):\n",
    "    geolocator = Nominatim(user_agent=\"CoVid-19\")\n",
    "    geocode = RateLimiter(geolocator.reverse, min_delay_seconds=1)\n",
    "    try:\n",
    "        if not pd.isnull(df_aux['Address'][i]):\n",
    "            df_aux['Address'][i]\n",
    "        elif pd.isnull(df_aux['Latitude'][i]):\n",
    "            df_aux['Address'][i]=np.NaN\n",
    "        else:\n",
    "            lat=df_aux['Latitude'][i]\n",
    "            lon=df_aux['Longitude'][i]\n",
    "            df_aux['Address'][i]=str(geocode(str(lat)+', '+str(lon)))\n",
    "    except TypeError:\n",
    "        continue\n",
    "\n",
    "df_aux.apply(lambda row: locate(row),axis=1)"
   ]
  },
  {
   "cell_type": "code",
   "execution_count": 113,
   "metadata": {
    "scrolled": true
   },
   "outputs": [
    {
     "name": "stderr",
     "output_type": "stream",
     "text": [
      "/home/joeldela/anaconda3/lib/python3.7/site-packages/ipykernel_launcher.py:9: SettingWithCopyWarning: \n",
      "A value is trying to be set on a copy of a slice from a DataFrame\n",
      "\n",
      "See the caveats in the documentation: http://pandas.pydata.org/pandas-docs/stable/user_guide/indexing.html#returning-a-view-versus-a-copy\n",
      "  if __name__ == '__main__':\n",
      "/home/joeldela/anaconda3/lib/python3.7/site-packages/ipykernel_launcher.py:7: SettingWithCopyWarning: \n",
      "A value is trying to be set on a copy of a slice from a DataFrame\n",
      "\n",
      "See the caveats in the documentation: http://pandas.pydata.org/pandas-docs/stable/user_guide/indexing.html#returning-a-view-versus-a-copy\n",
      "  import sys\n"
     ]
    }
   ],
   "source": [
    "df_aux['Location']=np.nan\n",
    "for i in range(df.shape[0]):\n",
    "    try:\n",
    "        if pd.isnull(df_aux['Address'][i]):\n",
    "            df_aux['Address'][i]\n",
    "        elif any(i.isdigit() for i in df_aux['Address'][i].split(',')[-2]):\n",
    "            df_aux['Location'][i]=df_aux['Address'][i].split(',')[-3]\n",
    "        else:\n",
    "            df_aux['Location'][i]=df_aux['Address'][i].split(',')[-2]\n",
    "    except IndexError:\n",
    "        df_aux['Address'][i]"
   ]
  },
  {
   "cell_type": "code",
   "execution_count": 114,
   "metadata": {},
   "outputs": [
    {
     "data": {
      "text/html": [
       "<div>\n",
       "<style scoped>\n",
       "    .dataframe tbody tr th:only-of-type {\n",
       "        vertical-align: middle;\n",
       "    }\n",
       "\n",
       "    .dataframe tbody tr th {\n",
       "        vertical-align: top;\n",
       "    }\n",
       "\n",
       "    .dataframe thead th {\n",
       "        text-align: right;\n",
       "    }\n",
       "</style>\n",
       "<table border=\"1\" class=\"dataframe\">\n",
       "  <thead>\n",
       "    <tr style=\"text-align: right;\">\n",
       "      <th></th>\n",
       "      <th>Confirmed</th>\n",
       "      <th>Country</th>\n",
       "      <th>Deaths</th>\n",
       "      <th>Last Update</th>\n",
       "      <th>Latitude</th>\n",
       "      <th>Longitude</th>\n",
       "      <th>Province</th>\n",
       "      <th>Recovered</th>\n",
       "      <th>Address</th>\n",
       "      <th>Location</th>\n",
       "    </tr>\n",
       "  </thead>\n",
       "  <tbody>\n",
       "    <tr>\n",
       "      <th>0</th>\n",
       "      <td>1.0</td>\n",
       "      <td>Mainland China</td>\n",
       "      <td>NaN</td>\n",
       "      <td>1/22/2020 17:00</td>\n",
       "      <td>NaN</td>\n",
       "      <td>NaN</td>\n",
       "      <td>Anhui</td>\n",
       "      <td>NaN</td>\n",
       "      <td>NaN</td>\n",
       "      <td>NaN</td>\n",
       "    </tr>\n",
       "    <tr>\n",
       "      <th>1</th>\n",
       "      <td>14.0</td>\n",
       "      <td>Mainland China</td>\n",
       "      <td>NaN</td>\n",
       "      <td>1/22/2020 17:00</td>\n",
       "      <td>NaN</td>\n",
       "      <td>NaN</td>\n",
       "      <td>Beijing</td>\n",
       "      <td>NaN</td>\n",
       "      <td>NaN</td>\n",
       "      <td>NaN</td>\n",
       "    </tr>\n",
       "    <tr>\n",
       "      <th>2</th>\n",
       "      <td>6.0</td>\n",
       "      <td>Mainland China</td>\n",
       "      <td>NaN</td>\n",
       "      <td>1/22/2020 17:00</td>\n",
       "      <td>NaN</td>\n",
       "      <td>NaN</td>\n",
       "      <td>Chongqing</td>\n",
       "      <td>NaN</td>\n",
       "      <td>NaN</td>\n",
       "      <td>NaN</td>\n",
       "    </tr>\n",
       "    <tr>\n",
       "      <th>3</th>\n",
       "      <td>1.0</td>\n",
       "      <td>Mainland China</td>\n",
       "      <td>NaN</td>\n",
       "      <td>1/22/2020 17:00</td>\n",
       "      <td>NaN</td>\n",
       "      <td>NaN</td>\n",
       "      <td>Fujian</td>\n",
       "      <td>NaN</td>\n",
       "      <td>NaN</td>\n",
       "      <td>NaN</td>\n",
       "    </tr>\n",
       "    <tr>\n",
       "      <th>4</th>\n",
       "      <td>NaN</td>\n",
       "      <td>Mainland China</td>\n",
       "      <td>NaN</td>\n",
       "      <td>1/22/2020 17:00</td>\n",
       "      <td>NaN</td>\n",
       "      <td>NaN</td>\n",
       "      <td>Gansu</td>\n",
       "      <td>NaN</td>\n",
       "      <td>NaN</td>\n",
       "      <td>NaN</td>\n",
       "    </tr>\n",
       "    <tr>\n",
       "      <th>...</th>\n",
       "      <td>...</td>\n",
       "      <td>...</td>\n",
       "      <td>...</td>\n",
       "      <td>...</td>\n",
       "      <td>...</td>\n",
       "      <td>...</td>\n",
       "      <td>...</td>\n",
       "      <td>...</td>\n",
       "      <td>...</td>\n",
       "      <td>...</td>\n",
       "    </tr>\n",
       "    <tr>\n",
       "      <th>6717</th>\n",
       "      <td>0.0</td>\n",
       "      <td>Guernsey</td>\n",
       "      <td>0.0</td>\n",
       "      <td>2020-03-17T18:33:03</td>\n",
       "      <td>49.4500</td>\n",
       "      <td>-2.580</td>\n",
       "      <td>NaN</td>\n",
       "      <td>0.0</td>\n",
       "      <td>Route des Talbots, Saint Peter Port, Guernsey,...</td>\n",
       "      <td>Guernsey</td>\n",
       "    </tr>\n",
       "    <tr>\n",
       "      <th>6718</th>\n",
       "      <td>0.0</td>\n",
       "      <td>Jersey</td>\n",
       "      <td>0.0</td>\n",
       "      <td>2020-03-17T18:33:03</td>\n",
       "      <td>49.1900</td>\n",
       "      <td>-2.110</td>\n",
       "      <td>NaN</td>\n",
       "      <td>0.0</td>\n",
       "      <td>6, Rouge Bouillon, St Helier, JE2 3PP, Jersey</td>\n",
       "      <td>St Helier</td>\n",
       "    </tr>\n",
       "    <tr>\n",
       "      <th>6719</th>\n",
       "      <td>0.0</td>\n",
       "      <td>Puerto Rico</td>\n",
       "      <td>0.0</td>\n",
       "      <td>2020-03-17T16:13:14</td>\n",
       "      <td>18.2000</td>\n",
       "      <td>-66.500</td>\n",
       "      <td>NaN</td>\n",
       "      <td>0.0</td>\n",
       "      <td>Cacos, Orocovis, Puerto Rico, United States of...</td>\n",
       "      <td>Puerto Rico</td>\n",
       "    </tr>\n",
       "    <tr>\n",
       "      <th>6720</th>\n",
       "      <td>0.0</td>\n",
       "      <td>Republic of the Congo</td>\n",
       "      <td>0.0</td>\n",
       "      <td>2020-03-17T21:33:03</td>\n",
       "      <td>-1.4400</td>\n",
       "      <td>15.556</td>\n",
       "      <td>NaN</td>\n",
       "      <td>0.0</td>\n",
       "      <td>Abala, Plateaux, République du Congo</td>\n",
       "      <td>Plateaux</td>\n",
       "    </tr>\n",
       "    <tr>\n",
       "      <th>6721</th>\n",
       "      <td>0.0</td>\n",
       "      <td>The Gambia</td>\n",
       "      <td>0.0</td>\n",
       "      <td>2020-03-18T14:13:56</td>\n",
       "      <td>13.4667</td>\n",
       "      <td>-16.600</td>\n",
       "      <td>NaN</td>\n",
       "      <td>0.0</td>\n",
       "      <td>Banjul - Serrekunda Highway, Industrial zone (...</td>\n",
       "      <td>Banjul</td>\n",
       "    </tr>\n",
       "  </tbody>\n",
       "</table>\n",
       "<p>6722 rows × 10 columns</p>\n",
       "</div>"
      ],
      "text/plain": [
       "      Confirmed                Country  Deaths          Last Update  Latitude  \\\n",
       "0           1.0         Mainland China     NaN      1/22/2020 17:00       NaN   \n",
       "1          14.0         Mainland China     NaN      1/22/2020 17:00       NaN   \n",
       "2           6.0         Mainland China     NaN      1/22/2020 17:00       NaN   \n",
       "3           1.0         Mainland China     NaN      1/22/2020 17:00       NaN   \n",
       "4           NaN         Mainland China     NaN      1/22/2020 17:00       NaN   \n",
       "...         ...                    ...     ...                  ...       ...   \n",
       "6717        0.0               Guernsey     0.0  2020-03-17T18:33:03   49.4500   \n",
       "6718        0.0                 Jersey     0.0  2020-03-17T18:33:03   49.1900   \n",
       "6719        0.0            Puerto Rico     0.0  2020-03-17T16:13:14   18.2000   \n",
       "6720        0.0  Republic of the Congo     0.0  2020-03-17T21:33:03   -1.4400   \n",
       "6721        0.0             The Gambia     0.0  2020-03-18T14:13:56   13.4667   \n",
       "\n",
       "      Longitude   Province  Recovered  \\\n",
       "0           NaN      Anhui        NaN   \n",
       "1           NaN    Beijing        NaN   \n",
       "2           NaN  Chongqing        NaN   \n",
       "3           NaN     Fujian        NaN   \n",
       "4           NaN      Gansu        NaN   \n",
       "...         ...        ...        ...   \n",
       "6717     -2.580        NaN        0.0   \n",
       "6718     -2.110        NaN        0.0   \n",
       "6719    -66.500        NaN        0.0   \n",
       "6720     15.556        NaN        0.0   \n",
       "6721    -16.600        NaN        0.0   \n",
       "\n",
       "                                                Address      Location  \n",
       "0                                                   NaN           NaN  \n",
       "1                                                   NaN           NaN  \n",
       "2                                                   NaN           NaN  \n",
       "3                                                   NaN           NaN  \n",
       "4                                                   NaN           NaN  \n",
       "...                                                 ...           ...  \n",
       "6717  Route des Talbots, Saint Peter Port, Guernsey,...      Guernsey  \n",
       "6718      6, Rouge Bouillon, St Helier, JE2 3PP, Jersey     St Helier  \n",
       "6719  Cacos, Orocovis, Puerto Rico, United States of...   Puerto Rico  \n",
       "6720               Abala, Plateaux, République du Congo      Plateaux  \n",
       "6721  Banjul - Serrekunda Highway, Industrial zone (...        Banjul  \n",
       "\n",
       "[6722 rows x 10 columns]"
      ]
     },
     "execution_count": 114,
     "metadata": {},
     "output_type": "execute_result"
    }
   ],
   "source": [
    "df_aux"
   ]
  },
  {
   "cell_type": "code",
   "execution_count": 122,
   "metadata": {},
   "outputs": [],
   "source": [
    "data_covid=df_aux[['Province','Country','Confirmed','Deaths','Last Update','Latitude','Latitude','Longitude','Address','Location']]\n",
    "data_covid.loc[:,'Last Update']=pd.to_datetime(data_covid.loc[:,'Last Update'])"
   ]
  },
  {
   "cell_type": "markdown",
   "metadata": {},
   "source": [
    "##### Now we can proceed with the data visualization"
   ]
  },
  {
   "cell_type": "code",
   "execution_count": null,
   "metadata": {},
   "outputs": [],
   "source": []
  }
 ],
 "metadata": {
  "kernelspec": {
   "display_name": "Python 3",
   "language": "python",
   "name": "python3"
  },
  "language_info": {
   "codemirror_mode": {
    "name": "ipython",
    "version": 3
   },
   "file_extension": ".py",
   "mimetype": "text/x-python",
   "name": "python",
   "nbconvert_exporter": "python",
   "pygments_lexer": "ipython3",
   "version": "3.7.4"
  }
 },
 "nbformat": 4,
 "nbformat_minor": 4
}
